{
  "nbformat": 4,
  "nbformat_minor": 0,
  "metadata": {
    "colab": {
      "provenance": [],
      "authorship_tag": "ABX9TyOEaMtN6Qt2QaAdw7pgqKjz",
      "include_colab_link": true
    },
    "kernelspec": {
      "name": "python3",
      "display_name": "Python 3"
    },
    "language_info": {
      "name": "python"
    }
  },
  "cells": [
    {
      "cell_type": "markdown",
      "metadata": {
        "id": "view-in-github",
        "colab_type": "text"
      },
      "source": [
        "<a href=\"https://colab.research.google.com/github/ferwar/AI-Tree-images/blob/main/test1.ipynb\" target=\"_parent\"><img src=\"https://colab.research.google.com/assets/colab-badge.svg\" alt=\"Open In Colab\"/></a>"
      ]
    },
    {
      "cell_type": "markdown",
      "source": [
        "# Colab + GitHub\n",
        "\n",
        "1. Open public repository SarangDeshmukh7\n",
        "2. Create new repository\n",
        "3. Push commit"
      ],
      "metadata": {
        "id": "MQ1IXqjVqo7E"
      }
    },
    {
      "cell_type": "code",
      "source": [],
      "metadata": {
        "id": "n4aKb3b_qrjK"
      },
      "execution_count": null,
      "outputs": []
    }
  ]
}